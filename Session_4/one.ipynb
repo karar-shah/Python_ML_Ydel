{
 "cells": [
  {
   "attachments": {},
   "cell_type": "markdown",
   "metadata": {},
   "source": [
    "# Lambda funciton"
   ]
  },
  {
   "cell_type": "code",
   "execution_count": 2,
   "metadata": {},
   "outputs": [],
   "source": [
    "def add_1(first_v, second_v):\n",
    "    return first_v + second_v\n"
   ]
  },
  {
   "cell_type": "code",
   "execution_count": 3,
   "metadata": {},
   "outputs": [
    {
     "data": {
      "text/plain": [
       "66"
      ]
     },
     "execution_count": 3,
     "metadata": {},
     "output_type": "execute_result"
    }
   ],
   "source": [
    "add_1(11,55)"
   ]
  },
  {
   "cell_type": "code",
   "execution_count": 15,
   "metadata": {},
   "outputs": [],
   "source": [
    "add_2 = lambda name :name.upper()"
   ]
  },
  {
   "cell_type": "code",
   "execution_count": 16,
   "metadata": {},
   "outputs": [
    {
     "data": {
      "text/plain": [
       "'KARAR SHAH'"
      ]
     },
     "execution_count": 16,
     "metadata": {},
     "output_type": "execute_result"
    }
   ],
   "source": [
    "add_2('karar shah') "
   ]
  },
  {
   "cell_type": "code",
   "execution_count": null,
   "metadata": {},
   "outputs": [],
   "source": []
  },
  {
   "cell_type": "code",
   "execution_count": 17,
   "metadata": {},
   "outputs": [],
   "source": [
    "def welcomeMSG():\n",
    "    print('Welcome to my CLI app')\n",
    "    print('This is a game. Please press enter to cont')\n",
    "    "
   ]
  },
  {
   "cell_type": "code",
   "execution_count": 18,
   "metadata": {},
   "outputs": [
    {
     "name": "stdout",
     "output_type": "stream",
     "text": [
      "Welcome to my CLI app\n",
      "This is a game. Please press enter to cont\n"
     ]
    }
   ],
   "source": [
    "welcomeMSG()"
   ]
  },
  {
   "cell_type": "code",
   "execution_count": 19,
   "metadata": {},
   "outputs": [
    {
     "name": "stdout",
     "output_type": "stream",
     "text": [
      "Welcome to my CLI app\n",
      "This is a game. Please press enter to cont\n"
     ]
    }
   ],
   "source": [
    "welcomeMSG()"
   ]
  },
  {
   "cell_type": "code",
   "execution_count": 20,
   "metadata": {},
   "outputs": [],
   "source": [
    "def accCreated(name, id , pin):\n",
    "    print('A/C holder name:',name)\n",
    "    print('A/C ID:', id)\n",
    "    print('Secret PIN',pin)"
   ]
  },
  {
   "cell_type": "code",
   "execution_count": 21,
   "metadata": {},
   "outputs": [],
   "source": [
    "x = 100\n",
    "\n",
    "def dis():\n",
    "    print(x)"
   ]
  },
  {
   "cell_type": "code",
   "execution_count": 22,
   "metadata": {},
   "outputs": [
    {
     "name": "stdout",
     "output_type": "stream",
     "text": [
      "100\n"
     ]
    }
   ],
   "source": [
    "dis()"
   ]
  },
  {
   "cell_type": "code",
   "execution_count": 23,
   "metadata": {},
   "outputs": [],
   "source": [
    "status = 'student'\n",
    "\n",
    "def give_access (status):\n",
    "    if status == 'student':\n",
    "        print('Enter from gate 1')\n",
    "    elif status == 'teacher':\n",
    "        print('Enter from gate 4')\n",
    "    else:\n",
    "        print('Error')"
   ]
  },
  {
   "cell_type": "code",
   "execution_count": 27,
   "metadata": {},
   "outputs": [
    {
     "name": "stdout",
     "output_type": "stream",
     "text": [
      "Enter from gate 4\n"
     ]
    }
   ],
   "source": [
    "h = input('Who is he?')\n",
    "i = input('?')\n",
    "give_access(h)"
   ]
  },
  {
   "cell_type": "code",
   "execution_count": null,
   "metadata": {},
   "outputs": [],
   "source": []
  },
  {
   "cell_type": "code",
   "execution_count": 34,
   "metadata": {},
   "outputs": [],
   "source": [
    "l = 8\n",
    "def myfunc():\n",
    "    t = 300\n",
    "    print(t,l)"
   ]
  },
  {
   "cell_type": "code",
   "execution_count": 35,
   "metadata": {},
   "outputs": [
    {
     "name": "stdout",
     "output_type": "stream",
     "text": [
      "300 8\n"
     ]
    }
   ],
   "source": [
    "myfunc()"
   ]
  },
  {
   "cell_type": "code",
   "execution_count": 36,
   "metadata": {},
   "outputs": [
    {
     "data": {
      "text/plain": [
       "8"
      ]
     },
     "execution_count": 36,
     "metadata": {},
     "output_type": "execute_result"
    }
   ],
   "source": [
    "l"
   ]
  },
  {
   "cell_type": "code",
   "execution_count": 26,
   "metadata": {},
   "outputs": [
    {
     "name": "stdout",
     "output_type": "stream",
     "text": [
      "Enter from gate 1\n"
     ]
    }
   ],
   "source": [
    "give_access('student')"
   ]
  },
  {
   "cell_type": "code",
   "execution_count": null,
   "metadata": {},
   "outputs": [],
   "source": []
  },
  {
   "cell_type": "code",
   "execution_count": null,
   "metadata": {},
   "outputs": [],
   "source": [
    "def karar(math,python,computer,stats, ml):\n",
    "    print('karar')\n"
   ]
  },
  {
   "cell_type": "code",
   "execution_count": 37,
   "metadata": {},
   "outputs": [],
   "source": [
    "def myfunc():\n",
    "    x = 300\n",
    "    def myinnerfunc():\n",
    "        print(x)\n",
    "    myinnerfunc()"
   ]
  },
  {
   "cell_type": "code",
   "execution_count": 46,
   "metadata": {},
   "outputs": [],
   "source": [
    "def myfunc():\n",
    "    x44 = 300\n",
    "    print(x) "
   ]
  },
  {
   "cell_type": "code",
   "execution_count": 47,
   "metadata": {},
   "outputs": [],
   "source": [
    "def myinnerfunc():\n",
    "    y44 = 600\n",
    "    print(x,y1) "
   ]
  },
  {
   "cell_type": "code",
   "execution_count": 39,
   "metadata": {},
   "outputs": [],
   "source": [
    "def myfunc():\n",
    "    x = 300\n",
    "\n",
    "    def myinnerfunc():\n",
    "        y1 = 600\n",
    "        print(x,y1)\n",
    "        \n",
    "    myinnerfunc()\n",
    "    print(y1)"
   ]
  },
  {
   "cell_type": "code",
   "execution_count": 41,
   "metadata": {},
   "outputs": [
    {
     "ename": "NameError",
     "evalue": "name 'myinnerfunc' is not defined",
     "output_type": "error",
     "traceback": [
      "\u001b[1;31m---------------------------------------------------------------------------\u001b[0m",
      "\u001b[1;31mNameError\u001b[0m                                 Traceback (most recent call last)",
      "\u001b[1;32mc:\\Users\\Karar\\OneDrive\\Desktop\\Fiver\\karar\\Ydel\\SessionCode\\Python_ML_Ydel\\Session_4\\one.ipynb Cell 25\u001b[0m in \u001b[0;36m<cell line: 1>\u001b[1;34m()\u001b[0m\n\u001b[1;32m----> <a href='vscode-notebook-cell:/c%3A/Users/Karar/OneDrive/Desktop/Fiver/karar/Ydel/SessionCode/Python_ML_Ydel/Session_4/one.ipynb#X41sZmlsZQ%3D%3D?line=0'>1</a>\u001b[0m myinnerfunc()\n",
      "\u001b[1;31mNameError\u001b[0m: name 'myinnerfunc' is not defined"
     ]
    }
   ],
   "source": [
    "myinnerfunc()"
   ]
  },
  {
   "cell_type": "code",
   "execution_count": 40,
   "metadata": {},
   "outputs": [
    {
     "name": "stdout",
     "output_type": "stream",
     "text": [
      "300 600\n"
     ]
    },
    {
     "ename": "NameError",
     "evalue": "name 'y1' is not defined",
     "output_type": "error",
     "traceback": [
      "\u001b[1;31m---------------------------------------------------------------------------\u001b[0m",
      "\u001b[1;31mNameError\u001b[0m                                 Traceback (most recent call last)",
      "\u001b[1;32mc:\\Users\\Karar\\OneDrive\\Desktop\\Fiver\\karar\\Ydel\\SessionCode\\Python_ML_Ydel\\Session_4\\one.ipynb Cell 24\u001b[0m in \u001b[0;36m<cell line: 1>\u001b[1;34m()\u001b[0m\n\u001b[1;32m----> <a href='vscode-notebook-cell:/c%3A/Users/Karar/OneDrive/Desktop/Fiver/karar/Ydel/SessionCode/Python_ML_Ydel/Session_4/one.ipynb#X35sZmlsZQ%3D%3D?line=0'>1</a>\u001b[0m myfunc()\n",
      "\u001b[1;32mc:\\Users\\Karar\\OneDrive\\Desktop\\Fiver\\karar\\Ydel\\SessionCode\\Python_ML_Ydel\\Session_4\\one.ipynb Cell 24\u001b[0m in \u001b[0;36mmyfunc\u001b[1;34m()\u001b[0m\n\u001b[0;32m      <a href='vscode-notebook-cell:/c%3A/Users/Karar/OneDrive/Desktop/Fiver/karar/Ydel/SessionCode/Python_ML_Ydel/Session_4/one.ipynb#X35sZmlsZQ%3D%3D?line=4'>5</a>\u001b[0m     \u001b[39mprint\u001b[39m(x,y1)\n\u001b[0;32m      <a href='vscode-notebook-cell:/c%3A/Users/Karar/OneDrive/Desktop/Fiver/karar/Ydel/SessionCode/Python_ML_Ydel/Session_4/one.ipynb#X35sZmlsZQ%3D%3D?line=5'>6</a>\u001b[0m myinnerfunc()\n\u001b[1;32m----> <a href='vscode-notebook-cell:/c%3A/Users/Karar/OneDrive/Desktop/Fiver/karar/Ydel/SessionCode/Python_ML_Ydel/Session_4/one.ipynb#X35sZmlsZQ%3D%3D?line=6'>7</a>\u001b[0m \u001b[39mprint\u001b[39m(y1)\n",
      "\u001b[1;31mNameError\u001b[0m: name 'y1' is not defined"
     ]
    }
   ],
   "source": [
    "myfunc()"
   ]
  }
 ],
 "metadata": {
  "kernelspec": {
   "display_name": "base",
   "language": "python",
   "name": "python3"
  },
  "language_info": {
   "codemirror_mode": {
    "name": "ipython",
    "version": 3
   },
   "file_extension": ".py",
   "mimetype": "text/x-python",
   "name": "python",
   "nbconvert_exporter": "python",
   "pygments_lexer": "ipython3",
   "version": "3.9.12"
  },
  "orig_nbformat": 4,
  "vscode": {
   "interpreter": {
    "hash": "2bd6de4a48679b2e291a65267fea1d05377a4a1401728ce8efb4ddfe14914e09"
   }
  }
 },
 "nbformat": 4,
 "nbformat_minor": 2
}
