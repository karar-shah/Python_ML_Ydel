{
 "cells": [
  {
   "attachments": {},
   "cell_type": "markdown",
   "metadata": {},
   "source": [
    "# Python\n",
    "## Intro:\n",
    "- Python is an interpreted, high-level, general-purpose programming language.\n",
    "    - Compiler transforms code written in a high-level programming language into the machine code at once before the program runs, whereas an Interpreter converts each high-level program statement, one by one, into the machine code, during program run.\n",
    "    - HHL: User-oriented, Designed to make programe straightforward. E.g. (Java, C, C++, Python, etc.)\n",
    "    - GPPL: Broadly applicable across application domains, and lacks specialized features for a particular domain"
   ]
  },
  {
   "attachments": {},
   "cell_type": "markdown",
   "metadata": {},
   "source": [
    "![Alt text](one.png)"
   ]
  },
  {
   "attachments": {},
   "cell_type": "markdown",
   "metadata": {},
   "source": [
    "#### What is python?\n",
    "- Created by Guido van Rossum, and released in 1991\n",
    "- Flexible programming language\n",
    "    - Any type of development: Functional, procedural or object oriented\n",
    "- Humain readable:\n",
    "    - close enough to english"
   ]
  },
  {
   "attachments": {},
   "cell_type": "markdown",
   "metadata": {},
   "source": [
    "#### Why use Python?\n",
    "- Great starter language\n",
    "    - Not alot of funky syntax to learn\n",
    "- Great advanced language\n",
    "    - Its flexable, can grow with your career\n",
    "- Wonderful Community"
   ]
  },
  {
   "attachments": {},
   "cell_type": "markdown",
   "metadata": {},
   "source": [
    "#### What can I build with Python?\n",
    "- Machine learning models\n",
    "- AI projects\n",
    "- Web development (server-side)\n",
    "- Software development (Automation utilities)\n",
    "- mathematics\n",
    "- system scripting\n",
    "- Anything, really"
   ]
  },
  {
   "attachments": {},
   "cell_type": "markdown",
   "metadata": {},
   "source": [
    "#### To know: Syntax\n",
    "- Similarities to the English language with influence from mathematics\n",
    "- Python uses new lines to complete a command\n",
    "- Python relies on indentation, using whitespace, to define scope; such as the scope of loops, functions and classes."
   ]
  },
  {
   "attachments": {},
   "cell_type": "markdown",
   "metadata": {},
   "source": [
    "---\n",
    "---"
   ]
  },
  {
   "attachments": {},
   "cell_type": "markdown",
   "metadata": {},
   "source": [
    "### Quickstart:\n",
    "- Check version\n",
    "    - `python --version`\n",
    "- Run in CLI\n",
    "    - `python filename.py`\n",
    "- Code in terminal\n",
    "    - `python`\n",
    "    - `print('hello world')`\n",
    "    - `exit()`"
   ]
  },
  {
   "attachments": {},
   "cell_type": "markdown",
   "metadata": {},
   "source": [
    "---\n",
    "---\n",
    "---"
   ]
  },
  {
   "attachments": {},
   "cell_type": "markdown",
   "metadata": {},
   "source": [
    "# print\n",
    "\n",
    "The print function allows you to send output to the terminal\n",
    "\n",
    "- [print](https://docs.python.org/3/library/functions.html#print)\n",
    "\n",
    "Strings can be enclosed in single quotes or double quotes\n",
    "\n",
    "- \"this is a string\"\n",
    "- 'this is also a string'\n",
    "---"
   ]
  },
  {
   "cell_type": "code",
   "execution_count": 2,
   "metadata": {},
   "outputs": [
    {
     "name": "stdout",
     "output_type": "stream",
     "text": [
      "hello world\n"
     ]
    }
   ],
   "source": [
    "print('hello world')"
   ]
  },
  {
   "attachments": {},
   "cell_type": "markdown",
   "metadata": {},
   "source": [
    "# input\n",
    "The input function allows you to prompt a user for a value\n",
    "\n",
    "- [input](https://docs.python.org/3/library/functions.html#input)\n",
    "  \n",
    "Parameters:\n",
    "\n",
    "- `prompt`: Message to display to the user  \n",
    "\n",
    "return value:\n",
    "\n",
    "- string value containing value entered by user\n",
    "---"
   ]
  },
  {
   "cell_type": "code",
   "execution_count": 4,
   "metadata": {},
   "outputs": [
    {
     "name": "stdout",
     "output_type": "stream",
     "text": [
      "my name is ak47\n"
     ]
    }
   ],
   "source": [
    "a = input('Enter anything:')\n",
    "print(a)"
   ]
  },
  {
   "attachments": {},
   "cell_type": "markdown",
   "metadata": {},
   "source": [
    "# Comments\n",
    "Comments are ignored when code is executed.\\\n",
    "Explain Python code.\\\n",
    "Make the code more readable.\\\n",
    "Prevent execution when testing code.\n",
    "\n",
    "- Single line comment\n",
    "    - Comments start with a hash character (#) and allow you to document your code.\n",
    "- Multi line comment\n",
    "    - String literals that are not assigned to a variable will be ignored by python. You can use them and add multiline comment in it\n",
    "    - Starts and ends with triple quotes\n",
    "- [Comments](https://docs.python.org/3/reference/lexical_analysis.html?highlight=comment)\n",
    "---"
   ]
  },
  {
   "cell_type": "code",
   "execution_count": 5,
   "metadata": {},
   "outputs": [
    {
     "name": "stdout",
     "output_type": "stream",
     "text": [
      "25\n"
     ]
    }
   ],
   "source": [
    "# didn't wanted to execute below statement\n",
    "# print('I do not wanna run')\n",
    "\n",
    "# we are doing addition\n",
    "print(6 + 19) # addition"
   ]
  },
  {
   "attachments": {},
   "cell_type": "markdown",
   "metadata": {},
   "source": [
    "# Variables\n",
    "Variables are containers for storing data values.\\\n",
    "A variable is created the moment you first assign a value to it.\n",
    "\n",
    "## Variable naming styles\n",
    "When naming variables follow the PEP-8 Style Guide for Python Code\n",
    "\n",
    "- [PEP-8 Style Guide](https://www.python.org/dev/peps/pep-0008/#naming-conventions)\n",
    "- The following naming styles are commonly distinguished:\n",
    "    - `b` (single lowercase letter)\n",
    "    - `B` (single uppercase letter)\n",
    "    - `lowercase`\n",
    "    - `lower_case_with_underscores`\n",
    "    - `UPPERCASE`\n",
    "    - `UPPER_CASE_WITH_UNDERSCORES`\n",
    "    - `CapitalizedWords` ( CamelCase )\n",
    "    - `mixedCase` (differs from CapitalizedWords by initial lowercase character!)\n",
    "    - `Capitalized_Words_With_Underscores` (ugly!)\n",
    "\n",
    "---"
   ]
  },
  {
   "cell_type": "code",
   "execution_count": 8,
   "metadata": {},
   "outputs": [],
   "source": [
    "a = 2\n",
    "B = 33\n",
    "name = 'Ali'\n",
    "user_name = 'Ali'\n",
    "USER = 'Ali'\n",
    "USER_NAME = 'Ali'\n",
    "UserName = 'Ali'\n",
    "userName = 'Ali'\n",
    "User_Name = 'Ali'"
   ]
  },
  {
   "attachments": {},
   "cell_type": "markdown",
   "metadata": {},
   "source": [
    "# Built-in Data Types\n",
    "Variables can store data of different types, and different types can do different things.\\\n",
    "Python has the following data types built-in by default, in these categories:\\\n",
    "\n",
    "- Text Type:`str`\n",
    "- Numeric Types:\t`int, float, complex`\n",
    "- Sequence Types:\t`list, tuple, range`\n",
    "- Mapping Type:\t`dict`\n",
    "- Set Types:\t`set, frozenset`\n",
    "- Boolean Type:\t`bool`\n",
    "- Binary Types:\t`bytes, bytearray, memoryview`\n",
    "- None Type:\t`NoneType`\n",
    "\n",
    "### Getting the Data Type\n",
    "You can get the data type of any object by using the `type()` function:\n",
    "\n",
    "---"
   ]
  },
  {
   "cell_type": "code",
   "execution_count": 6,
   "metadata": {},
   "outputs": [],
   "source": [
    "'''Setting the data Types'''\n",
    "\n",
    "x = \"Hello World\"\t#str\n",
    "x = 20\t#int\n",
    "x = 20.5\t#float\n",
    "x = 1j\t#complex\n",
    "x = [\"apple\", \"banana\", \"cherry\"]\t#list\n",
    "x = (\"apple\", \"banana\", \"cherry\")\t#tuple\n",
    "x = range(6)\t#range\n",
    "x = {\"name\" : \"John\", \"age\" : 36}\t#dict\n",
    "x = {\"apple\", \"banana\", \"cherry\"}\t#set\n",
    "x = frozenset({\"apple\", \"banana\", \"cherry\"})\t#frozenset\n",
    "x = True\t#bool\n",
    "x = {\"name\" : \"John\", \"age\" : 36}\t#dict\n",
    "x = memoryview(bytes(5))\t#memoryview\n",
    "x = None\t#NoneType"
   ]
  },
  {
   "cell_type": "code",
   "execution_count": 7,
   "metadata": {},
   "outputs": [
    {
     "name": "stdout",
     "output_type": "stream",
     "text": [
      "<class 'int'>\n"
     ]
    }
   ],
   "source": [
    "'''Getting the data type'''\n",
    "x = 5\n",
    "print(type(x))"
   ]
  },
  {
   "cell_type": "code",
   "execution_count": 9,
   "metadata": {},
   "outputs": [],
   "source": [
    "'''Setting specific Data Type'''\n",
    "x = str(\"Hello World\")\t\n",
    "x = int(20)\t\n",
    "x = float(20.5)\t\n",
    "x = list((\"apple\", \"banana\", \"cherry\"))\t\n",
    "x = tuple((\"apple\", \"banana\", \"cherry\"))\t\n",
    "x = dict(name=\"John\", age=36)\t\n",
    "x = set((\"apple\", \"banana\", \"cherry\"))\t\n",
    "x = bool(5)\t"
   ]
  },
  {
   "attachments": {},
   "cell_type": "markdown",
   "metadata": {},
   "source": [
    "# Python Numbers\n",
    "Int, or integer, is a whole number, positive or negative, without decimals, of unlimited length.\n"
   ]
  },
  {
   "cell_type": "code",
   "execution_count": 10,
   "metadata": {},
   "outputs": [
    {
     "name": "stdout",
     "output_type": "stream",
     "text": [
      "<class 'int'>\n",
      "<class 'int'>\n",
      "<class 'int'>\n"
     ]
    }
   ],
   "source": [
    "x = 1\n",
    "y = 35656222554887711\n",
    "z = -3255522\n",
    "\n",
    "print(type(x))\n",
    "print(type(y))\n",
    "print(type(z))"
   ]
  },
  {
   "attachments": {},
   "cell_type": "markdown",
   "metadata": {},
   "source": [
    "# Float\n",
    "Float, or \"floating point number\" is a number, positive or negative, containing one or more decimals.\\\n",
    "Float can also be scientific numbers with an \"e\" to indicate the power of 10."
   ]
  },
  {
   "cell_type": "code",
   "execution_count": 12,
   "metadata": {},
   "outputs": [
    {
     "name": "stdout",
     "output_type": "stream",
     "text": [
      "<class 'float'>\n",
      "<class 'float'>\n",
      "<class 'float'>\n",
      "<class 'float'>\n",
      "<class 'float'>\n",
      "<class 'float'>\n"
     ]
    }
   ],
   "source": [
    "x = 1.10\n",
    "y = 1.0\n",
    "z = -35.59\n",
    "\n",
    "print(type(x))\n",
    "print(type(y))\n",
    "print(type(z))\n",
    "\n",
    "x = 35e3\n",
    "y = 12E4\n",
    "z = -87.7e100\n",
    "\n",
    "print(type(x))\n",
    "print(type(y))\n",
    "print(type(z))"
   ]
  },
  {
   "attachments": {},
   "cell_type": "markdown",
   "metadata": {},
   "source": [
    "# Strings\n",
    "\n",
    "Python can store and manipulate strings. Strings can be enclosed in single or double quotes. There are a number of string methods you can use to manipulate and work with strings\n",
    "\n",
    "- [strings](https://docs.python.org/3/tutorial/introduction.html#strings)\n",
    "- [string methods](https://docs.python.org/3/library/stdtypes.html#string-methods)\n",
    "\n",
    "Converting to string values\n",
    "\n",
    "- [str](https://docs.python.org/3/library/functions.html#func-str)\n",
    "\n",
    "---"
   ]
  }
 ],
 "metadata": {
  "kernelspec": {
   "display_name": "base",
   "language": "python",
   "name": "python3"
  },
  "language_info": {
   "codemirror_mode": {
    "name": "ipython",
    "version": 3
   },
   "file_extension": ".py",
   "mimetype": "text/x-python",
   "name": "python",
   "nbconvert_exporter": "python",
   "pygments_lexer": "ipython3",
   "version": "3.9.12 (main, Apr  4 2022, 05:22:27) [MSC v.1916 64 bit (AMD64)]"
  },
  "orig_nbformat": 4,
  "vscode": {
   "interpreter": {
    "hash": "2bd6de4a48679b2e291a65267fea1d05377a4a1401728ce8efb4ddfe14914e09"
   }
  }
 },
 "nbformat": 4,
 "nbformat_minor": 2
}
